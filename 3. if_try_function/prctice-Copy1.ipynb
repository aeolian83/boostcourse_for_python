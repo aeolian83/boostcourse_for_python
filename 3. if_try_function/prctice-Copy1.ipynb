{
 "cells": [
  {
   "cell_type": "code",
   "execution_count": 1,
   "id": "52070d0c",
   "metadata": {},
   "outputs": [],
   "source": [
    "## 컴퓨터와 함께하는 가위바위보 게임을 만들어봅시다!\n",
    "### 조건1 : 함수의 인자로는 나의 가위바위보 선택이 들어감\n",
    "### 조건2 : 누가 무엇을 냈고, 누가 승리 했는지 출력이 되어야 함"
   ]
  },
  {
   "cell_type": "code",
   "execution_count": 2,
   "id": "bbfc5d60",
   "metadata": {},
   "outputs": [],
   "source": [
    "import random"
   ]
  },
  {
   "cell_type": "code",
   "execution_count": 3,
   "id": "f4ae0441",
   "metadata": {},
   "outputs": [],
   "source": [
    "def game_input():\n",
    "    player = input(\"가위 바위 보를 입력하시오(0, 1, 2를 입력할 수 있음) : \")\n",
    "    try:\n",
    "        player_code = int(player)\n",
    "        if player_code > 2:\n",
    "            player = 3\n",
    "        elif player_code == 0:\n",
    "            player = \"가위\"\n",
    "        elif player_code == 1:\n",
    "            player = \"바위\"\n",
    "        elif player_code == 2:\n",
    "            player = \"보\"\n",
    "    except:\n",
    "        rcp = [\"가위\", \"바위\", \"보\"]\n",
    "        if player not in rcp :\n",
    "            player = 4\n",
    "    return player"
   ]
  },
  {
   "cell_type": "code",
   "execution_count": 4,
   "id": "bfefc595",
   "metadata": {},
   "outputs": [],
   "source": [
    "def game_eval():\n",
    "    win = \"당신이 이겼습니다!\"\n",
    "    lose = \"당신은 졌습니다.\"\n",
    "    player = game_input()\n",
    "    computer_code = random.randint(0, 2)\n",
    "    if computer_code ==  0:\n",
    "        computer = \"가위\"\n",
    "    elif computer_code == 1:\n",
    "        computer = \"바위\"\n",
    "    elif computer_code == 2:\n",
    "        computer = \"보\"\n",
    "    if player == 3:\n",
    "        print(\"0에서 2사이의 정수만 입력 할 수 있습니다.\")\n",
    "        return\n",
    "    if player == 4:\n",
    "        print(\"가위, 바위, 보 아니면 0, 1, 2 만 입력 할 수 있습니다.\")\n",
    "        return\n",
    "    else:\n",
    "        print(\"컴퓨터는\", computer, \"당신은\", player, \"를 선택했습니다.\")\n",
    "        if player == computer:\n",
    "            print(\"비겼습니다.\")\n",
    "        elif player == \"가위\":\n",
    "            if computer == \"바위\":\n",
    "                print(lose)\n",
    "            elif computer == \"보\":\n",
    "                print(win)\n",
    "        elif player == \"바위\":\n",
    "            if computer == \"가위\":\n",
    "                print(win)\n",
    "            elif computer == \"보\":\n",
    "                print(lose)\n",
    "        elif player == \"보\":\n",
    "            if computer == \"가위\":\n",
    "                print(lose)\n",
    "            elif computer == \"바위\":\n",
    "                print(win)\n",
    "        return"
   ]
  },
  {
   "cell_type": "code",
   "execution_count": 19,
   "id": "cc554381",
   "metadata": {},
   "outputs": [],
   "source": [
    "def game_start():\n",
    "    while True:\n",
    "        game_eval()\n",
    "        while True:\n",
    "            game_continue = input(\"게임을 계속하시겠습니까?(Y/N로 입력하시오): \")\n",
    "            if game_continue in (\"n\", \"N\"):\n",
    "                print(\"게임을 종료합니다.\")\n",
    "                return\n",
    "            elif game_continue in (\"Y\", \"y\"):\n",
    "                break\n",
    "            else:\n",
    "                print(\"잘못입력했습니다. 다시 입력하세요.\")\n",
    "                continue"
   ]
  },
  {
   "cell_type": "code",
   "execution_count": 20,
   "id": "6bb4a3f0",
   "metadata": {},
   "outputs": [
    {
     "name": "stdout",
     "output_type": "stream",
     "text": [
      "가위 바위 보를 입력하시오(0, 1, 2를 입력할 수 있음) : 2\n",
      "컴퓨터는 바위 당신은 보 를 선택했습니다.\n",
      "당신이 이겼습니다!\n",
      "게임을 계속하시겠습니까?(Y/N로 입력하시오): ㅇㄴ\n",
      "잘못입력했습니다. 다시 입력하세요.\n",
      "게임을 계속하시겠습니까?(Y/N로 입력하시오): Y\n",
      "가위 바위 보를 입력하시오(0, 1, 2를 입력할 수 있음) : 1\n",
      "컴퓨터는 가위 당신은 바위 를 선택했습니다.\n",
      "당신이 이겼습니다!\n",
      "게임을 계속하시겠습니까?(Y/N로 입력하시오): y\n",
      "가위 바위 보를 입력하시오(0, 1, 2를 입력할 수 있음) : 0\n",
      "컴퓨터는 가위 당신은 가위 를 선택했습니다.\n",
      "비겼습니다.\n",
      "게임을 계속하시겠습니까?(Y/N로 입력하시오): y\n",
      "가위 바위 보를 입력하시오(0, 1, 2를 입력할 수 있음) : 1\n",
      "컴퓨터는 바위 당신은 바위 를 선택했습니다.\n",
      "비겼습니다.\n",
      "게임을 계속하시겠습니까?(Y/N로 입력하시오): n\n",
      "게임을 종료합니다.\n"
     ]
    }
   ],
   "source": [
    "game_start()"
   ]
  },
  {
   "cell_type": "code",
   "execution_count": null,
   "id": "ab493055",
   "metadata": {},
   "outputs": [],
   "source": []
  }
 ],
 "metadata": {
  "kernelspec": {
   "display_name": "Python 3 (ipykernel)",
   "language": "python",
   "name": "python3"
  },
  "language_info": {
   "codemirror_mode": {
    "name": "ipython",
    "version": 3
   },
   "file_extension": ".py",
   "mimetype": "text/x-python",
   "name": "python",
   "nbconvert_exporter": "python",
   "pygments_lexer": "ipython3",
   "version": "3.9.12"
  }
 },
 "nbformat": 4,
 "nbformat_minor": 5
}
