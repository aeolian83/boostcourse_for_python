{
 "cells": [
  {
   "cell_type": "code",
   "execution_count": null,
   "id": "52070d0c",
   "metadata": {},
   "outputs": [],
   "source": [
    "## Q1. 컴퓨터와 함께하는 가위바위보 게임을 만들어봅시다!\n",
    "### 조건1 : 함수의 인자로는 나의 가위바위보 선택이 들어감\n",
    "### 조건2 : 누가 무엇을 냈고, 누가 승리 했는지 출력이 되어야 함"
   ]
  },
  {
   "cell_type": "code",
   "execution_count": null,
   "id": "bbfc5d60",
   "metadata": {},
   "outputs": [],
   "source": [
    "import random"
   ]
  },
  {
   "cell_type": "code",
   "execution_count": null,
   "id": "f4ae0441",
   "metadata": {},
   "outputs": [],
   "source": [
    "def game_input():\n",
    "    player = input(\"가위 바위 보를 입력하시오(0, 1, 2를 입력할 수 있음) : \")\n",
    "    try:\n",
    "        player_code = int(player)\n",
    "        if player_code > 2:\n",
    "            player = 3\n",
    "        elif player_code == 0:\n",
    "            player = \"가위\"\n",
    "        elif player_code == 1:\n",
    "            player = \"바위\"\n",
    "        elif player_code == 2:\n",
    "            player = \"보\"\n",
    "    except:\n",
    "        rcp = [\"가위\", \"바위\", \"보\"]\n",
    "        if player not in rcp :\n",
    "            player = 4\n",
    "    return player"
   ]
  },
  {
   "cell_type": "code",
   "execution_count": null,
   "id": "bfefc595",
   "metadata": {},
   "outputs": [],
   "source": [
    "def game_eval():\n",
    "    win = \"당신이 이겼습니다!\"\n",
    "    lose = \"당신은 졌습니다.\"\n",
    "    player = game_input()\n",
    "    computer_code = random.randint(0, 2)\n",
    "    if computer_code ==  0:\n",
    "        computer = \"가위\"\n",
    "    elif computer_code == 1:\n",
    "        computer = \"바위\"\n",
    "    elif computer_code == 2:\n",
    "        computer = \"보\"\n",
    "    if player == 3:\n",
    "        print(\"0에서 2사이의 정수만 입력 할 수 있습니다.\")\n",
    "        return\n",
    "    if player == 4:\n",
    "        print(\"가위, 바위, 보 아니면 0, 1, 2 만 입력 할 수 있습니다.\")\n",
    "        return\n",
    "    else:\n",
    "        print(\"컴퓨터는\", computer, \"당신은\", player, \"를 선택했습니다.\")\n",
    "        if player == computer:\n",
    "            print(\"비겼습니다.\")\n",
    "        elif player == \"가위\":\n",
    "            if computer == \"바위\":\n",
    "                print(lose)\n",
    "            elif computer == \"보\":\n",
    "                print(win)\n",
    "        elif player == \"바위\":\n",
    "            if computer == \"가위\":\n",
    "                print(win)\n",
    "            elif computer == \"보\":\n",
    "                print(lose)\n",
    "        elif player == \"보\":\n",
    "            if computer == \"가위\":\n",
    "                print(lose)\n",
    "            elif computer == \"바위\":\n",
    "                print(win)\n",
    "        return"
   ]
  },
  {
   "cell_type": "code",
   "execution_count": null,
   "id": "cc554381",
   "metadata": {},
   "outputs": [],
   "source": [
    "def game_start():\n",
    "    while True:\n",
    "        game_eval()\n",
    "        while True:\n",
    "            game_continue = input(\"게임을 계속하시겠습니까?(Y/N로 입력하시오): \")\n",
    "            if game_continue in (\"n\", \"N\"):\n",
    "                print(\"게임을 종료합니다.\")\n",
    "                return\n",
    "            elif game_continue in (\"Y\", \"y\"):\n",
    "                break\n",
    "            else:\n",
    "                print(\"잘못입력했습니다. 다시 입력하세요.\")\n",
    "                continue"
   ]
  },
  {
   "cell_type": "code",
   "execution_count": null,
   "id": "6bb4a3f0",
   "metadata": {},
   "outputs": [],
   "source": [
    "game_start()"
   ]
  },
  {
   "cell_type": "code",
   "execution_count": null,
   "id": "2cea00bb",
   "metadata": {},
   "outputs": [],
   "source": [
    "print()"
   ]
  },
  {
   "cell_type": "code",
   "execution_count": null,
   "id": "ab493055",
   "metadata": {},
   "outputs": [],
   "source": [
    "## Q2. 월급을 입력하면 연봉을 계산해주는 계산기를 만들어 봅시다. 세전 연봉과 세후 연봉을 함께 출력하도록 해봅니다."
   ]
  },
  {
   "cell_type": "code",
   "execution_count": null,
   "id": "f2c2cd90",
   "metadata": {},
   "outputs": [],
   "source": [
    "def monthly_payment_cal():\n",
    "    while True:\n",
    "        monthly_payment = input(\"연봉을 입력해주십시오(숫자로 만원단위로 입력해주십시오)\")\n",
    "        try:\n",
    "            month_pay = float(monthly_payment)\n",
    "            break\n",
    "        except:\n",
    "            print(\"만원단위 정수로만 입력해주십시오\")\n",
    "            continue\n",
    "    return month_pay"
   ]
  },
  {
   "cell_type": "code",
   "execution_count": null,
   "id": "d1c63f60",
   "metadata": {},
   "outputs": [],
   "source": [
    "def yearly_pay_cal():\n",
    "    month_pay = monthly_payment_cal()\n",
    "    before_tax_pay = month_pay * 12\n",
    "    if before_tax_pay > 50000:\n",
    "        yearly_pay = before_tax_pay - (before_tax_pay * 0.42)\n",
    "    elif before_tax_pay > 30000:\n",
    "        yearly_pay = before_tax_pay - (before_tax_pay * 0.40)\n",
    "    elif before_tax_pay > 15000:\n",
    "        yearly_pay = before_tax_pay - (before_tax_pay * 0.38)\n",
    "    elif before_tax_pay > 8800:\n",
    "        yearly_pay = before_tax_pay - (before_tax_pay * 0.35)\n",
    "    elif before_tax_pay > 4600:\n",
    "        yearly_pay = before_tax_pay - (before_tax_pay * 0.24)\n",
    "    elif before_tax_pay > 1200:\n",
    "        yearly_pay = before_tax_pay - (before_tax_pay * 0.15)\n",
    "    else:\n",
    "        yearly_pay = before_tax_pay - (before_tax_pay * 0.06)\n",
    "    print(\"세전연봉:\", round(before_tax_pay), \"만원\")\n",
    "    print(\"세후연봉:\", round(yearly_pay), \"만원\")\n",
    "    return"
   ]
  },
  {
   "cell_type": "code",
   "execution_count": null,
   "id": "53878de7",
   "metadata": {},
   "outputs": [],
   "source": [
    "yearly_pay_cal()"
   ]
  },
  {
   "cell_type": "code",
   "execution_count": null,
   "id": "28a8aac3",
   "metadata": {},
   "outputs": [],
   "source": [
    "print()"
   ]
  },
  {
   "cell_type": "code",
   "execution_count": null,
   "id": "6631b4ca",
   "metadata": {},
   "outputs": [],
   "source": [
    "## Q3. 학생 이름과 점수를 입력하면 학점을 출력하는 학점 변환기를 만들어 봅시다.\n",
    "### 이름과 점수, 학점 모두 출력하도록 해봅니다.|"
   ]
  },
  {
   "cell_type": "code",
   "execution_count": null,
   "id": "bd84f845",
   "metadata": {},
   "outputs": [],
   "source": [
    "def name_score_input():\n",
    "    st_name = input(\"학생이름을 입력해주세요: \")\n",
    "    while True:\n",
    "        print(\"학생의 점수를 입력해주세요(1~100사이의 정수로 입력필요)\")\n",
    "        st_score = input(\"(소숫점 이하는 버립니다): \")\n",
    "        try:\n",
    "            score = int(st_score)\n",
    "            if score > 100:\n",
    "                print(\"점수는 1~100사이의 정수로만 입력 가능합니다.\")\n",
    "                continue\n",
    "            elif 0 > score:\n",
    "                print(\"점수는 1~100사이의 정수로만 입력 가능합니다.\")\n",
    "                continue\n",
    "            else:\n",
    "                break\n",
    "        except:\n",
    "            print(\"점수는 1~100사이의 정수로만 입력 가능합니다.\")\n",
    "            continue\n",
    "            \n",
    "    return st_name, score"
   ]
  },
  {
   "cell_type": "code",
   "execution_count": null,
   "id": "d9534e08",
   "metadata": {},
   "outputs": [],
   "source": [
    "def st_grader():\n",
    "    st_name, score = name_score_input()\n",
    "    if score > 94:\n",
    "        grade = \"A+\"\n",
    "    elif score > 89:\n",
    "        grade = \"A\"\n",
    "    elif score > 84:\n",
    "        grade = \"B+\"\n",
    "    elif score > 79:\n",
    "        grade = \"B\"\n",
    "    elif score > 74:\n",
    "        grade = \"C+\"\n",
    "    elif score > 69:\n",
    "        grade = \"C\"\n",
    "    elif score > 64:\n",
    "        grade = \"D+\"\n",
    "    elif score > 59:\n",
    "        grade = \"D\"\n",
    "    else:\n",
    "        grade = \"F\"\n",
    "    print(\"--------------------------\")\n",
    "    print(\"학생이름:\", st_name)\n",
    "    print(\"점수: \", str(score) + \"점\")\n",
    "    print(\"학점:\", grade)\n",
    "    return"
   ]
  },
  {
   "cell_type": "code",
   "execution_count": null,
   "id": "5f7e6c0c",
   "metadata": {},
   "outputs": [],
   "source": [
    "st_grader()"
   ]
  },
  {
   "cell_type": "code",
   "execution_count": null,
   "id": "e482b88c",
   "metadata": {},
   "outputs": [],
   "source": [
    "print()"
   ]
  },
  {
   "cell_type": "code",
   "execution_count": null,
   "id": "688b2bd4",
   "metadata": {},
   "outputs": [],
   "source": [
    "## Q4. 나이와 현금 또는 카드를 입력하면 버스 요금이 출력되는 버스 요금 계산기를 만들어봅시다. "
   ]
  },
  {
   "cell_type": "code",
   "execution_count": 1,
   "id": "d7d28ec6",
   "metadata": {},
   "outputs": [],
   "source": [
    "def age_method_input():\n",
    "    while True:\n",
    "        age = input(\"나이를 입력하시오: \")\n",
    "        try:\n",
    "            pass_age = int(age)\n",
    "            if pass_age > 100:\n",
    "                print(\"나이는 100까지만 입력가능합니다.\")\n",
    "                continue\n",
    "            elif pass_age < 0:\n",
    "                print(\"나이는 양의 정수로만 입력가능합니다.\")\n",
    "                continue\n",
    "        except:\n",
    "            print(\"나이는 숫자로만 입력가능합니다.\")\n",
    "            continue\n",
    "        break\n",
    "    while True:\n",
    "        method_list = [\"카드\", \"현금\"]\n",
    "        method = input(\"지불방법을 선택하시오(카드/현금): \")\n",
    "        if method in method_list:\n",
    "            break\n",
    "        else:\n",
    "            print(\"'카드'와 '현금'으로만 입력 가능합니다.\")\n",
    "            continue\n",
    "    return pass_age, method"
   ]
  },
  {
   "cell_type": "code",
   "execution_count": 7,
   "id": "1af76be2",
   "metadata": {},
   "outputs": [],
   "source": [
    "def bus_charge_cal():\n",
    "    age, method = age_method_input()\n",
    "    if age < 8:\n",
    "        charge = \"무료\"\n",
    "    elif age > 74:\n",
    "        charge = \"무료\"\n",
    "    elif age < 14:\n",
    "        charge = \"450원\"\n",
    "    elif age < 20:\n",
    "        if method == \"카드\":\n",
    "            charge = \"720원\"\n",
    "        elif method == \"현금\":\n",
    "            charge = \"1000원\"\n",
    "    elif age < 75:\n",
    "        if method == \"카드\":\n",
    "            charge = \"1200원\"\n",
    "        elif method == \"현금\":\n",
    "            charge = \"1300원\"\n",
    "    print(\"---------------------\")\n",
    "    print(\"나이: \" + str(age) + \"세\")\n",
    "    print(\"지불유형: \" + method)\n",
    "    print(\"버스요금: \" + charge)\n",
    "    return"
   ]
  },
  {
   "cell_type": "code",
   "execution_count": 8,
   "id": "779ca0c8",
   "metadata": {},
   "outputs": [
    {
     "name": "stdout",
     "output_type": "stream",
     "text": [
      "나이를 입력하시오: 30\n",
      "지불방법을 선택하시오(카드/현금): 카드\n",
      "---------------------\n",
      "나이: 30세\n",
      "지불유형: 카드\n",
      "버스요금: 1200원\n"
     ]
    }
   ],
   "source": [
    "bus_charge_cal()"
   ]
  },
  {
   "cell_type": "code",
   "execution_count": null,
   "id": "247fd6b7",
   "metadata": {},
   "outputs": [],
   "source": []
  }
 ],
 "metadata": {
  "kernelspec": {
   "display_name": "Python 3 (ipykernel)",
   "language": "python",
   "name": "python3"
  },
  "language_info": {
   "codemirror_mode": {
    "name": "ipython",
    "version": 3
   },
   "file_extension": ".py",
   "mimetype": "text/x-python",
   "name": "python",
   "nbconvert_exporter": "python",
   "pygments_lexer": "ipython3",
   "version": "3.9.12"
  }
 },
 "nbformat": 4,
 "nbformat_minor": 5
}
