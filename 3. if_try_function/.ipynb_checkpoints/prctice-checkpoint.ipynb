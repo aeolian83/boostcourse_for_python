{
 "cells": [
  {
   "cell_type": "code",
   "execution_count": 2,
   "id": "18100f58",
   "metadata": {},
   "outputs": [],
   "source": [
    "## 컴퓨터와 함께하는 가위바위보 게임을 만들어봅시다!\n",
    "### 조건1 : 함수의 인자로는 나의 가위바위보 선택이 들어감\n",
    "### 조건2 : 누가 무엇을 냈고, 누가 승리 했는지 출력이 되어야 함"
   ]
  },
  {
   "cell_type": "code",
   "execution_count": 3,
   "id": "0b0794f8",
   "metadata": {},
   "outputs": [],
   "source": [
    "import random"
   ]
  },
  {
   "cell_type": "code",
   "execution_count": 7,
   "id": "b82dc238",
   "metadata": {},
   "outputs": [
    {
     "name": "stdout",
     "output_type": "stream",
     "text": [
      "1\n"
     ]
    }
   ],
   "source": [
    "computer_code = random.randint(0, 2)\n",
    "if computer_code ==  0:\n",
    "    computer = \"가위\"\n",
    "elif computer_code == 1:\n",
    "    computer = \"바위\"\n",
    "elif computer_code == 2:\n",
    "    computer = \"보\""
   ]
  },
  {
   "cell_type": "code",
   "execution_count": null,
   "id": "7d45aad6",
   "metadata": {},
   "outputs": [],
   "source": [
    "def game_input():\n",
    "    player = input(\"가위 바위 보를 입력하시오(0, 1, 2를 입력할 수 있음) : \")\n",
    "    try:\n",
    "        player_code = int(player)\n",
    "        if player_code > 2:\n",
    "            print(\"0에서 1사이의 정수만 입력 할 수 있습니다.\")\n",
    "            quit()\n",
    "    except:\n",
    "        if player == \"가위\":\n",
    "            player_code = 0\n",
    "        elif player == \"바위\":\n",
    "            player_code = 1\n",
    "        elif player == \"보\":\n",
    "            player_code == 2\n",
    "        else:\n",
    "            player_code = \"가위, 바위, 보 아니면 0, 1, 2 만 입력 할 수 있습니다.\"\n",
    "    return player_code"
   ]
  },
  {
   "cell_type": "code",
   "execution_count": null,
   "id": "a1c39f3c",
   "metadata": {},
   "outputs": [],
   "source": [
    "print(game_input())"
   ]
  },
  {
   "cell_type": "code",
   "execution_count": null,
   "id": "51afe5e3",
   "metadata": {},
   "outputs": [],
   "source": []
  }
 ],
 "metadata": {
  "kernelspec": {
   "display_name": "Python 3 (ipykernel)",
   "language": "python",
   "name": "python3"
  },
  "language_info": {
   "codemirror_mode": {
    "name": "ipython",
    "version": 3
   },
   "file_extension": ".py",
   "mimetype": "text/x-python",
   "name": "python",
   "nbconvert_exporter": "python",
   "pygments_lexer": "ipython3",
   "version": "3.9.12"
  }
 },
 "nbformat": 4,
 "nbformat_minor": 5
}
